{
  "nbformat": 4,
  "nbformat_minor": 0,
  "metadata": {
    "colab": {
      "provenance": [],
      "authorship_tag": "ABX9TyPsUSLI0YI82fAHshOzO4z0",
      "include_colab_link": true
    },
    "kernelspec": {
      "name": "python3",
      "display_name": "Python 3"
    },
    "language_info": {
      "name": "python"
    }
  },
  "cells": [
    {
      "cell_type": "markdown",
      "metadata": {
        "id": "view-in-github",
        "colab_type": "text"
      },
      "source": [
        "<a href=\"https://colab.research.google.com/github/mohamedaydid12/Project-1.3-Haiku-Bot/blob/main/Untitled0.ipynb\" target=\"_parent\"><img src=\"https://colab.research.google.com/assets/colab-badge.svg\" alt=\"Open In Colab\"/></a>"
      ]
    },
    {
      "cell_type": "code",
      "source": [
        "import syllapy\n",
        "\n",
        "# Haiku generation function def generate_haiku(texts):... haikus = []\n",
        "\n",
        "    # Easy method for selecting three randomly chosen headlines (or using the first three) for text in texts[:3]:\n",
        "        Text is made up of words.divided() haiku_line = []\n",
        "\n",
        "        for word in words: # Make sure there are five syllables in the haiku_line if sum(syllapy.count(word) for word in haiku_line) <= 5.add(word)\n",
        "\n",
        "        \".\" \".join(haiku_line)\" haikus.append(\"\n",
        "\n",
        "    # Haiku should return \"\\\" and have a 5-7-5 syllable structure.join (haikus)\n",
        "\n",
        "# Haiku = generate_haiku(headline_texts) print(haiku) is an example.\n",
        "\n"
      ],
      "metadata": {
        "id": "IKa6yl85PCTP",
        "outputId": "261f69de-9035-4972-e580-01b75f65f978",
        "colab": {
          "base_uri": "https://localhost:8080/",
          "height": 105
        }
      },
      "execution_count": 10,
      "outputs": [
        {
          "output_type": "error",
          "ename": "IndentationError",
          "evalue": "unexpected indent (<ipython-input-10-67dca0848b1b>, line 6)",
          "traceback": [
            "\u001b[0;36m  File \u001b[0;32m\"<ipython-input-10-67dca0848b1b>\"\u001b[0;36m, line \u001b[0;32m6\u001b[0m\n\u001b[0;31m    Text is made up of words.divided() haiku_line = []\u001b[0m\n\u001b[0m    ^\u001b[0m\n\u001b[0;31mIndentationError\u001b[0m\u001b[0;31m:\u001b[0m unexpected indent\n"
          ]
        }
      ]
    }
  ]
}