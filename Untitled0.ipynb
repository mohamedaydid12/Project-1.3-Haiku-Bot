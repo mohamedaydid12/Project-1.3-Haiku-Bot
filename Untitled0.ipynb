{
  "nbformat": 4,
  "nbformat_minor": 0,
  "metadata": {
    "colab": {
      "provenance": [],
      "authorship_tag": "ABX9TyOC8SC/Zj1XkHaMkXnxJKEW",
      "include_colab_link": true
    },
    "kernelspec": {
      "name": "python3",
      "display_name": "Python 3"
    },
    "language_info": {
      "name": "python"
    }
  },
  "cells": [
    {
      "cell_type": "markdown",
      "metadata": {
        "id": "view-in-github",
        "colab_type": "text"
      },
      "source": [
        "<a href=\"https://colab.research.google.com/github/mohamedaydid12/Project-1.3-Haiku-Bot/blob/main/Untitled0.ipynb\" target=\"_parent\"><img src=\"https://colab.research.google.com/assets/colab-badge.svg\" alt=\"Open In Colab\"/></a>"
      ]
    },
    {
      "cell_type": "code",
      "source": [
        "import requests\n",
        "\n",
        "WEBHOOK_URL = \"https://discord.com/api/webhooks/YOUR_WEBHOOK_URL\"  # Substitute your Discord WebHook URL.\n",
        "\n",
        "def post_to_discord(haiku):\n",
        "    data = {\"content\": haiku}\n",
        "    response = requests.post(WEBHOOK_URL, json=data)  # Complete the line\n",
        "\n",
        "    if response.status_code == 204:\n",
        "        print(\"Haiku posted successfully!\")\n",
        "    else:\n",
        "        print(f\"Failed to post: {response.status_code}\")\n",
        "\n",
        "# Example of posting a Haiku\n",
        "haiku = \"An old silent pond\\nA frog jumps into the pond—\\nSplash! Silence again.\"\n",
        "post_to_discord(haiku)\n"
      ],
      "metadata": {
        "colab": {
          "base_uri": "https://localhost:8080/"
        },
        "id": "CIAOpMAHPdiw",
        "outputId": "ef164eb0-a1cd-42db-ef02-bdf6fdcfdb39"
      },
      "execution_count": 14,
      "outputs": [
        {
          "output_type": "stream",
          "name": "stdout",
          "text": [
            "Failed to post: 405\n"
          ]
        }
      ]
    }
  ]
}