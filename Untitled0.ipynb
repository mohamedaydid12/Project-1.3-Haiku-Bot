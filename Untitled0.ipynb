{
  "nbformat": 4,
  "nbformat_minor": 0,
  "metadata": {
    "colab": {
      "provenance": [],
      "authorship_tag": "ABX9TyPUaOAdFMCULXLMdpb67Jd8",
      "include_colab_link": true
    },
    "kernelspec": {
      "name": "python3",
      "display_name": "Python 3"
    },
    "language_info": {
      "name": "python"
    }
  },
  "cells": [
    {
      "cell_type": "markdown",
      "metadata": {
        "id": "view-in-github",
        "colab_type": "text"
      },
      "source": [
        "<a href=\"https://colab.research.google.com/github/mohamedaydid12/Project-1.3-Haiku-Bot/blob/main/Untitled0.ipynb\" target=\"_parent\"><img src=\"https://colab.research.google.com/assets/colab-badge.svg\" alt=\"Open In Colab\"/></a>"
      ]
    },
    {
      "cell_type": "code",
      "source": [
        "import requests\n",
        "from bs4 import BeautifulSoup\n",
        "\n",
        "# This is the URL of the news website\n",
        "url = \"https://www.bbc.com/news\"\n",
        "\n",
        "# Submit the website a GET request\n",
        "response = requests.get(url)\n",
        "\n",
        "# Parse the content of the page\n",
        "soup = BeautifulSoup(response.text, 'html.parser')\n",
        "\n",
        "# Locate every headline (modify the class and tag according to the structure of the website)\n",
        "headlines = soup.find_all('h3')\n",
        "\n",
        "# Obtain the first few headlines' text\n",
        "headline_texts = [headline.get_text() for headline in headlines[:5]]  # Modify the value as necessary\n",
        "print(headline_texts)\n"
      ],
      "metadata": {
        "id": "YfwdVcHhNkMC"
      },
      "execution_count": null,
      "outputs": []
    }
  ]
}